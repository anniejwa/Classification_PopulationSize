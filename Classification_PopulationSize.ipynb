{
  "nbformat": 4,
  "nbformat_minor": 5,
  "metadata": {
    "kernelspec": {
      "display_name": "Python 3",
      "language": "python",
      "name": "python3"
    },
    "language_info": {
      "codemirror_mode": {
        "name": "ipython",
        "version": 3
      },
      "file_extension": ".py",
      "mimetype": "text/x-python",
      "name": "python",
      "nbconvert_exporter": "python",
      "pygments_lexer": "ipython3",
      "version": "3.8.10"
    },
    "colab": {
      "provenance": [],
      "include_colab_link": true
    }
  },
  "cells": [
    {
      "cell_type": "markdown",
      "metadata": {
        "id": "view-in-github",
        "colab_type": "text"
      },
      "source": [
        "<a href=\"https://colab.research.google.com/github/anniejwa/Classification_PoulationSize/blob/main/Copy_of_Classification_PopulationSize.ipynb\" target=\"_parent\"><img src=\"https://colab.research.google.com/assets/colab-badge.svg\" alt=\"Open In Colab\"/></a>"
      ]
    },
    {
      "cell_type": "markdown",
      "metadata": {
        "id": "86c72b2b-f9e6-4645-aa9f-8015d186b6fd"
      },
      "source": [
        "Simulate effects of population size on decoding accuracy - after https://www.ncbi.nlm.nih.gov/pmc/articles/pmid/33582276/\n",
        "\n",
        "accuracy rates for images defaced using pydeface:\n",
        "\n",
        "- 16/157 (10%) without refacing\n",
        "- 59/157 (38%) with reconstruction using mri_reface\n"
      ],
      "id": "86c72b2b-f9e6-4645-aa9f-8015d186b6fd"
    },
    {
      "cell_type": "code",
      "metadata": {
        "colab": {
          "base_uri": "https://localhost:8080/"
        },
        "id": "b11bde40-9368-4fff-a7c2-6109d2d425f1",
        "outputId": "dc4d7a3b-6182-4ec4-cd77-f7ed9dff719e"
      },
      "source": [
        "import numpy as np\n",
        "from sklearn.neighbors import KNeighborsClassifier\n",
        "import pandas as pd\n",
        "import matplotlib.pyplot as plt\n",
        "from sklearn.preprocessing import PolynomialFeatures\n",
        "from sklearn.linear_model import LinearRegression\n",
        "from sklearn.metrics import accuracy_score\n",
        "\n",
        "!pip install faiss-cpu --no-cache\n",
        "# NB: need to source setup.sh before running jupyter, to get MKL libs into path\n",
        "import faiss\n",
        "\n"
      ],
      "id": "b11bde40-9368-4fff-a7c2-6109d2d425f1",
      "execution_count": null,
      "outputs": [
        {
          "output_type": "stream",
          "text": [
            "Requirement already satisfied: faiss-cpu in /usr/local/lib/python3.7/dist-packages (1.7.1.post2)\n"
          ],
          "name": "stdout"
        }
      ]
    },
    {
      "cell_type": "code",
      "metadata": {
        "id": "5821ec4b-bcf2-4a5c-bb0a-d094d589f237"
      },
      "source": [
        "# use faiss to run KNN: https://towardsdatascience.com/make-knn-300-times-faster-than-scikit-learns-in-20-lines-5e29d74e76bb\n",
        "\n",
        "class FaissKNeighbors:\n",
        "    def __init__(self, k=1):\n",
        "        self.index = None\n",
        "        self.y = None\n",
        "        self.k = k\n",
        "\n",
        "    def fit(self, X, y):\n",
        "        self.index = faiss.IndexFlatL2(X.shape[1])\n",
        "        self.index.add(X.astype(np.float32))\n",
        "        self.y = y\n",
        "\n",
        "    def predict(self, X):\n",
        "        distances, indices = self.index.search(X.astype(np.float32), k=self.k)\n",
        "        votes = self.y[indices]\n",
        "        predictions = np.array([np.argmax(np.bincount(x)) for x in votes])\n",
        "        return predictions\n",
        "\n",
        "    def score(self, X, y):\n",
        "        return(accuracy_score(y, self.predict(X)))"
      ],
      "id": "5821ec4b-bcf2-4a5c-bb0a-d094d589f237",
      "execution_count": null,
      "outputs": []
    },
    {
      "cell_type": "markdown",
      "metadata": {
        "id": "25b56e14-259d-44d0-adec-c26261868857"
      },
      "source": [
        "Rationale: We want to generate data for which a classifier (in this case a one-nearest-neighbor) will give a particular level of accuracy for the population size (157) used in the Schwarz et al. paper. Then we will use that same noise level to generate a larger population for which we will test classification accuracy."
      ],
      "id": "25b56e14-259d-44d0-adec-c26261868857"
    },
    {
      "cell_type": "code",
      "metadata": {
        "colab": {
          "base_uri": "https://localhost:8080/"
        },
        "id": "8905be46-4a71-4ed0-ab0a-752436e331d8",
        "outputId": "76f3e666-2cb7-4d49-8e03-426cde494b59"
      },
      "source": [
        "nfeatures = 100 # number of features used by classifier\n",
        "npts = 157 # population size\n",
        "noise_scale = 10 # amount of noise to be added\n",
        "\n",
        "def nn_test(data, noise_scale, rng=None):\n",
        "    \"\"\"\n",
        "    A function that takes a dataset, fits a nearest neighbor classifier,\n",
        "    and then classifies observations generated by adding noise to the\n",
        "    original data.\n",
        "\n",
        "    inputs:\n",
        "    data (ndarray): original data, population size X n features\n",
        "    noise_scale (scalar): standard deviation of added noise\n",
        "    rng: numpy random noise generator\n",
        "\n",
        "    return:\n",
        "    accuracy of resulting classification\n",
        "    \"\"\"\n",
        "\n",
        "    if rng is None:\n",
        "        rng = np.random.default_rng(None)\n",
        "    target = np.arange(data.shape[0])\n",
        "    nn = FaissKNeighbors()\n",
        "    nn.fit(data, target)\n",
        "    data_noised = data + rng.normal(scale=noise_scale, size=data.shape)\n",
        "    return(nn.score(data_noised, target))\n",
        "\n",
        "seed = 12345\n",
        "rng = np.random.default_rng(seed)\n",
        "data = rng.normal(scale=1, size=(npts,nfeatures))\n",
        "\n",
        "nn_test(data, noise_scale, rng)"
      ],
      "id": "8905be46-4a71-4ed0-ab0a-752436e331d8",
      "execution_count": null,
      "outputs": [
        {
          "output_type": "execute_result",
          "data": {
            "text/plain": [
              "0.07643312101910828"
            ]
          },
          "metadata": {
            "tags": []
          },
          "execution_count": 8
        }
      ]
    },
    {
      "cell_type": "markdown",
      "metadata": {
        "id": "e03f4c4b-954f-4a5a-8bf1-958e0b1ddf34"
      },
      "source": [
        "We next need to determine, for a given level of accuracy, what the noise level is that would give that level of accuracy (on average).  \n",
        "Initial testing suggested that the range of noise levels from 5-30 was sufficient to capture the range from maximum to minimum accuracy. We run a large number of simulations using noise values sampled randomly from that range, and then use a polynomial regression to estimate the relationship between noise level and accuracy."
      ],
      "id": "e03f4c4b-954f-4a5a-8bf1-958e0b1ddf34"
    },
    {
      "cell_type": "code",
      "metadata": {
        "id": "b604b4d9-692b-4a38-81d7-5b89bcfffc93"
      },
      "source": [
        "noise_range = [2.5, 20] #[5, 30]\n",
        "\n",
        "results = []\n",
        "for i in range(10000):\n",
        "    noise_scale = rng.random() * np.diff(noise_range)[0] + noise_range[0]\n",
        "    data = rng.normal(scale=1, size=(npts,nfeatures))\n",
        "    results.append([noise_scale, nn_test(data, noise_scale, rng)])\n"
      ],
      "id": "b604b4d9-692b-4a38-81d7-5b89bcfffc93",
      "execution_count": null,
      "outputs": []
    },
    {
      "cell_type": "code",
      "metadata": {
        "id": "5e10ae33-1729-4401-9d71-f06700033f45"
      },
      "source": [
        "results_df = pd.DataFrame(results, columns=['noise_sd', 'accuracy'])"
      ],
      "id": "5e10ae33-1729-4401-9d71-f06700033f45",
      "execution_count": null,
      "outputs": []
    },
    {
      "cell_type": "code",
      "metadata": {
        "colab": {
          "base_uri": "https://localhost:8080/",
          "height": 296
        },
        "id": "2c4c1c29-77f1-434f-9817-73b5f4eaa69a",
        "outputId": "fe0f411a-5408-4d37-9991-6e6089a2b15f"
      },
      "source": [
        "# fit nonlinear function to results to get predicted accuracy and save to results_df\n",
        "poly = PolynomialFeatures(5)\n",
        "X = poly.fit_transform(results_df[['noise_sd']])\n",
        "lr = LinearRegression(fit_intercept=False)\n",
        "lr.fit(X, results_df.accuracy)\n",
        "results_df['predicted'] = lr.predict(X)\n",
        "plt.scatter(results_df.noise_sd, results_df.accuracy, s=1)\n",
        "plt.scatter(results_df.noise_sd, results_df.predicted, color='red', s=1)\n",
        "plt.xlabel('noise sd')\n",
        "plt.ylabel('accuracy')"
      ],
      "id": "2c4c1c29-77f1-434f-9817-73b5f4eaa69a",
      "execution_count": null,
      "outputs": [
        {
          "output_type": "execute_result",
          "data": {
            "text/plain": [
              "Text(0, 0.5, 'accuracy')"
            ]
          },
          "metadata": {
            "tags": []
          },
          "execution_count": 11
        },
        {
          "output_type": "display_data",
          "data": {
            "image/png": "[encoded data removed]",
            "text/plain": [
              "<Figure size 432x288 with 1 Axes>"
            ]
          },
          "metadata": {
            "tags": [],
            "needs_background": "light"
          }
        }
      ]
    },
    {
      "cell_type": "code",
      "metadata": {
        "colab": {
          "base_uri": "https://localhost:8080/"
        },
        "id": "3d7061a0-9274-4e73-91ea-5e6b8ea044b5",
        "outputId": "f8067850-5ddc-45f7-d4cd-df2808664c62"
      },
      "source": [
        "# get noise level for target accuracy\n",
        "\n",
        "def get_noise_level(target_accuracy, results_df):\n",
        "    \"\"\"\n",
        "    A function to estimate the noise level needed to obtain\n",
        "    a particular level of classification accuracy\n",
        "\n",
        "    inputs:\n",
        "    target_accuracy (float): desired accuracy\n",
        "    results_df (DataFrame): data frame containing simulation results\n",
        "\n",
        "    returns:\n",
        "    noise level to give desired accuracy\n",
        "    \"\"\"\n",
        "    absdiff = np.abs(results_df.predicted - target_accuracy)\n",
        "    return(results_df.loc[np.argmin(absdiff),'noise_sd'])\n",
        "\n",
        "get_noise_level(0.38, results_df)"
      ],
      "id": "3d7061a0-9274-4e73-91ea-5e6b8ea044b5",
      "execution_count": null,
      "outputs": [
        {
          "output_type": "execute_result",
          "data": {
            "text/plain": [
              "4.276490518611774"
            ]
          },
          "metadata": {
            "tags": []
          },
          "execution_count": 12
        }
      ]
    },
    {
      "cell_type": "markdown",
      "metadata": {
        "id": "00ab4913-04d0-4397-83a1-6d89aa380fec"
      },
      "source": [
        "This the main simulation, in which we vary population size to determine how classification accuracy decreases as a function of population size.  We first generate a dataset of individuals.  We then perform the analysis for the two levels of accuracy described above, varying across a range of population sizes from 157 (the population size in the Schwarz paper) up to 500,000. Random seeds were chosen manually for each accuracy level such that they give accuracy results for n=157 that are within 1% of the reported value.\n"
      ],
      "id": "00ab4913-04d0-4397-83a1-6d89aa380fec"
    },
    {
      "cell_type": "code",
      "metadata": {
        "id": "a6e8db1c-f2ba-4846-9c4f-9fade3157397"
      },
      "source": [
        "pop_sizes = [157, 250, 500, 1000, 5000, 10000, 100000, 500000]\n",
        "popdata = rng.normal(size=(np.max(pop_sizes), nfeatures))\n",
        "target_accuracy = [0.1, 0.38]\n",
        "\n"
      ],
      "id": "a6e8db1c-f2ba-4846-9c4f-9fade3157397",
      "execution_count": null,
      "outputs": []
    },
    {
      "cell_type": "code",
      "metadata": {
        "colab": {
          "base_uri": "https://localhost:8080/"
        },
        "id": "7e3cc2fe-545d-47e8-b1fc-e37f5cf7708d",
        "outputId": "4a36ce15-8d9a-4ef2-cb99-41ad2057ef3a"
      },
      "source": [
        "# First, find the seeds that will get us into the correct range for each target accuracy level.\n",
        "\n",
        "\n",
        "acc_seeds = {}\n",
        "data_subset = popdata[:157, :]\n",
        "for target_acc in target_accuracy:\n",
        "    acc = -1\n",
        "    target_noise = get_noise_level(target_acc, results_df)\n",
        "    while (acc < target_acc) or (acc - target_acc > 0.01):\n",
        "        seed = np.random.randint(10000000)\n",
        "        rng = np.random.default_rng(seed)\n",
        "        acc = nn_test(data_subset, target_noise, rng)\n",
        "    acc_seeds[target_acc] = seed\n",
        "    print(target_acc, acc, seed)\n",
        "\n"
      ],
      "id": "7e3cc2fe-545d-47e8-b1fc-e37f5cf7708d",
      "execution_count": null,
      "outputs": [
        {
          "output_type": "stream",
          "text": [
            "0.1 0.10828025477707007 9846476\n",
            "0.38 0.3885350318471338 3228407\n"
          ],
          "name": "stdout"
        }
      ]
    },
    {
      "cell_type": "code",
      "metadata": {
        "colab": {
          "base_uri": "https://localhost:8080/"
        },
        "id": "e8ef4dcb-43c1-448f-82c1-e147421cf354",
        "outputId": "d2d064b5-ff5f-4ce7-9ccf-7aed2f0cde51"
      },
      "source": [
        "sim_results = []\n",
        "\n",
        "for target_accuracy in acc_seeds.keys():\n",
        "    rng = np.random.default_rng(acc_seeds[target_accuracy])\n",
        "    target_noise = get_noise_level(target_accuracy, results_df)\n",
        "    for ps in pop_sizes:\n",
        "        data_subset = popdata[:ps, :]\n",
        "        result = nn_test(data_subset, target_noise, rng)\n",
        "        sim_results.append([target_noise, ps, result])\n",
        "        print([target_noise, ps, result])"
      ],
      "id": "e8ef4dcb-43c1-448f-82c1-e147421cf354",
      "execution_count": null,
      "outputs": [
        {
          "output_type": "stream",
          "text": [
            "[7.466803540935465, 157, 0.10828025477707007]\n",
            "[7.466803540935465, 250, 0.108]\n",
            "[7.466803540935465, 500, 0.048]\n",
            "[7.466803540935465, 1000, 0.031]\n",
            "[7.466803540935465, 5000, 0.0112]\n",
            "[7.466803540935465, 10000, 0.0077]\n",
            "[7.466803540935465, 100000, 0.00156]\n",
            "[7.466803540935465, 500000, 0.000468]\n",
            "[4.276490518611774, 157, 0.3885350318471338]\n",
            "[4.276490518611774, 250, 0.356]\n",
            "[4.276490518611774, 500, 0.276]\n",
            "[4.276490518611774, 1000, 0.184]\n",
            "[4.276490518611774, 5000, 0.0838]\n",
            "[4.276490518611774, 10000, 0.0692]\n",
            "[4.276490518611774, 100000, 0.01996]\n",
            "[4.276490518611774, 500000, 0.008548]\n"
          ],
          "name": "stdout"
        }
      ]
    },
    {
      "cell_type": "code",
      "metadata": {
        "colab": {
          "base_uri": "https://localhost:8080/",
          "height": 283
        },
        "id": "85fe5932-2145-4ce4-a179-0c8a11d5bc0a",
        "outputId": "cda6e01e-5903-4bac-93ad-36b2c274dae1"
      },
      "source": [
        "sim_results_df = pd.DataFrame(sim_results, columns=['target_noise', 'popsize', 'accuracy'])\n",
        "sim_results_df.to_csv('sim_results.csv')\n",
        "sim_results_df['SignalNoiseRatio'] = ['high' if i < sim_results_df.target_noise.median() else \"low\" for i in sim_results_df.target_noise]\n",
        "\n",
        "import seaborn as sns\n",
        "sns.lineplot(x='popsize', y='accuracy', hue='SignalNoiseRatio', data=sim_results_df)\n",
        "plt.xlabel('Target population size (log)')\n",
        "plt.ylabel('Classification accuracy (log)')\n",
        "plt.xscale('log')\n",
        "plt.yscale('log')\n",
        "plt.grid()\n",
        "plt.savefig('accuracy_by_popsize.png')"
      ],
      "id": "85fe5932-2145-4ce4-a179-0c8a11d5bc0a",
      "execution_count": null,
      "outputs": [
        {
          "output_type": "display_data",
          "data": {
            "image/png": "[encoded data removed]",
            "text/plain": [
              "<Figure size 432x288 with 1 Axes>"
            ]
          },
          "metadata": {
            "tags": [],
            "needs_background": "light"
          }
        }
      ]
    },
    {
      "cell_type": "code",
      "metadata": {
        "id": "cc5b3998-e054-4159-8415-9b01a55847b8"
      },
      "source": [],
      "id": "cc5b3998-e054-4159-8415-9b01a55847b8",
      "execution_count": null,
      "outputs": []
    }
  ]
}
